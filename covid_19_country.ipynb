{
 "cells": [
  {
   "cell_type": "code",
   "execution_count": 1,
   "metadata": {},
   "outputs": [],
   "source": [
    "# run initial imports\n",
    "from __future__ import print_function\n",
    "import warnings\n",
    "warnings.filterwarnings('ignore')\n",
    "\n",
    "import numpy as np\n",
    "import pandas as pd\n",
    "\n",
    "from fbprophet import Prophet\n",
    "from fbprophet.plot import plot_plotly\n",
    "\n",
    "import matplotlib.pyplot as plt\n",
    "import plotly.offline as py\n",
    "import plotly.express as px\n",
    "import plotly.graph_objs as go\n",
    "import seaborn as sns\n",
    "\n",
    "from scipy.integrate import odeint\n",
    "from scipy.optimize import curve_fit\n",
    "\n",
    "from sklearn.metrics import r2_score\n",
    "from sklearn.linear_model import Ridge\n",
    "from sklearn.preprocessing import PolynomialFeatures\n",
    "from sklearn.pipeline import make_pipeline\n",
    "\n",
    "from ipywidgets import interact, interactive, fixed, interact_manual\n",
    "from ipywidgets import widgets\n",
    "\n",
    "from datetime import datetime\n",
    "import os\n",
    "\n",
    "# if on virtual frame buffer (e.g. headless server)\n",
    "import plotly.io as pio\n",
    "pio.orca.config.use_xvfb = True"
   ]
  },
  {
   "cell_type": "code",
   "execution_count": 2,
   "metadata": {},
   "outputs": [],
   "source": [
    "NOW = datetime.now().strftime(\"%Y/%m/%d %H:%M\")\n",
    "NOW_FILE = datetime.now().strftime(\"%Y_%m_%d__%H%M\")\n",
    "pDay=3 # number of corecast days - should not exceed 5 unless you are very careful in tuning, and understand how to interpert the results\n",
    "input_dir = './data/'\n",
    "covid_19 = pd.read_csv(input_dir + 'combined.csv')\n",
    "#correct date parsing on some of the JH data\n",
    "covid_19['Last Update'] = pd.to_datetime(pd.to_datetime(covid_19['Last Update']).dt.date)\n",
    "covid_19 = covid_19.sort_values(['Last Update', 'Country/Region'])\n",
    "covid_19['Country/Region'] = covid_19['Country/Region'].replace({\n",
    "    'Korea, South': 'South Korea',\n",
    "    'Republic of Korea': 'South Korea',\n",
    "    'Iran (Islamic Republic of)': 'Iran',\n",
    "    'Mainland China': 'China',\n",
    "    'United Kingdom': 'UK',\n",
    "}).str.replace('*', '').str.replace(', The', '')"
   ]
  },
  {
   "cell_type": "code",
   "execution_count": 3,
   "metadata": {},
   "outputs": [
    {
     "name": "stdout",
     "output_type": "stream",
     "text": [
      "Available Countries: ['Afghanistan' 'Albania' 'Algeria' 'Andorra' 'Angola'\n",
      " 'Antigua and Barbuda' 'Argentina' 'Armenia' 'Aruba' 'Australia' 'Austria'\n",
      " 'Azerbaijan' 'Bahamas' 'Bahrain' 'Bangladesh' 'Barbados' 'Belarus'\n",
      " 'Belgium' 'Belize' 'Benin' 'Bhutan' 'Bolivia' 'Bosnia and Herzegovina'\n",
      " 'Botswana' 'Brazil' 'Brunei' 'Bulgaria' 'Burkina Faso' 'Burma' 'Burundi'\n",
      " 'Cabo Verde' 'Cambodia' 'Cameroon' 'Canada' 'Cape Verde' 'Cayman Islands'\n",
      " 'Central African Republic' 'Chad' 'Channel Islands' 'Chile' 'China'\n",
      " 'Colombia' 'Comoros' 'Congo (Brazzaville)' 'Congo (Kinshasa)'\n",
      " 'Costa Rica' \"Cote d'Ivoire\" 'Croatia' 'Cruise Ship' 'Cuba' 'Curacao'\n",
      " 'Cyprus' 'Czech Republic' 'Czechia' 'Denmark' 'Diamond Princess'\n",
      " 'Djibouti' 'Dominica' 'Dominican Republic' 'East Timor' 'Ecuador' 'Egypt'\n",
      " 'El Salvador' 'Equatorial Guinea' 'Eritrea' 'Estonia' 'Eswatini'\n",
      " 'Ethiopia' 'Faroe Islands' 'Fiji' 'Finland' 'France' 'French Guiana'\n",
      " 'Gabon' 'Gambia' 'Georgia' 'Germany' 'Ghana' 'Gibraltar' 'Greece'\n",
      " 'Greenland' 'Grenada' 'Guadeloupe' 'Guam' 'Guatemala' 'Guernsey' 'Guinea'\n",
      " 'Guinea-Bissau' 'Guyana' 'Haiti' 'Holy See' 'Honduras' 'Hong Kong'\n",
      " 'Hong Kong SAR' 'Hungary' 'Iceland' 'India' 'Indonesia' 'Iran' 'Iraq'\n",
      " 'Ireland' 'Israel' 'Italy' 'Ivory Coast' 'Jamaica' 'Japan' 'Jersey'\n",
      " 'Jordan' 'Kazakhstan' 'Kenya' 'Kosovo' 'Kuwait' 'Kyrgyzstan' 'Laos'\n",
      " 'Latvia' 'Lebanon' 'Lesotho' 'Liberia' 'Libya' 'Liechtenstein'\n",
      " 'Lithuania' 'Luxembourg' 'MS Zaandam' 'Macao SAR' 'Macau' 'Madagascar'\n",
      " 'Malawi' 'Malaysia' 'Maldives' 'Mali' 'Malta' 'Martinique' 'Mauritania'\n",
      " 'Mauritius' 'Mayotte' 'Mexico' 'Moldova' 'Monaco' 'Mongolia' 'Montenegro'\n",
      " 'Morocco' 'Mozambique' 'Namibia' 'Nepal' 'Netherlands' 'New Zealand'\n",
      " 'Nicaragua' 'Niger' 'Nigeria' 'North Ireland' 'North Macedonia' 'Norway'\n",
      " 'Oman' 'Others' 'Pakistan' 'Palestine' 'Panama' 'Papua New Guinea'\n",
      " 'Paraguay' 'Peru' 'Philippines' 'Poland' 'Portugal' 'Puerto Rico' 'Qatar'\n",
      " 'Republic of Ireland' 'Republic of Moldova' 'Republic of the Congo'\n",
      " 'Reunion' 'Romania' 'Russia' 'Russian Federation' 'Rwanda'\n",
      " 'Saint Barthelemy' 'Saint Kitts and Nevis' 'Saint Lucia' 'Saint Martin'\n",
      " 'Saint Vincent and the Grenadines' 'San Marino' 'Sao Tome and Principe'\n",
      " 'Saudi Arabia' 'Senegal' 'Serbia' 'Seychelles' 'Sierra Leone' 'Singapore'\n",
      " 'Slovakia' 'Slovenia' 'Somalia' 'South Africa' 'South Korea'\n",
      " 'South Sudan' 'Spain' 'Sri Lanka' 'St. Martin' 'Sudan' 'Suriname'\n",
      " 'Sweden' 'Switzerland' 'Syria' 'Taipei and environs' 'Taiwan'\n",
      " 'Tajikistan' 'Tanzania' 'Thailand' 'The Bahamas' 'The Gambia'\n",
      " 'Timor-Leste' 'Togo' 'Trinidad and Tobago' 'Tunisia' 'Turkey' 'UK' 'US'\n",
      " 'Uganda' 'Ukraine' 'United Arab Emirates' 'Uruguay' 'Uzbekistan'\n",
      " 'Vatican City' 'Venezuela' 'Viet Nam' 'Vietnam' 'West Bank and Gaza'\n",
      " 'Western Sahara' 'Yemen' 'Zambia' 'Zimbabwe'\n",
      " 'occupied Palestinian territory']\n"
     ]
    }
   ],
   "source": [
    "countries = covid_19['Country/Region'].unique()\n",
    "countries.sort()\n",
    "print('Available Countries:', countries)"
   ]
  },
  {
   "cell_type": "code",
   "execution_count": 4,
   "metadata": {},
   "outputs": [],
   "source": [
    "#quick national overview\n",
    "covid_19_countries = covid_19.copy().groupby(['Last Update','Country/Region'])['Confirmed','Deaths', 'Recovered'].sum().reset_index()\n",
    "covid_19_overall = covid_19.copy().groupby(['Last Update'])['Confirmed','Deaths', 'Recovered'].sum().reset_index()"
   ]
  },
  {
   "cell_type": "code",
   "execution_count": 5,
   "metadata": {},
   "outputs": [],
   "source": [
    "us_state_abbrev = { 'U.S':'US',\n",
    "    'Alabama': 'AL', 'Alaska': 'AK', 'Arizona': 'AZ','Arkansas': 'AR','California': 'CA','Colorado': 'CO','Connecticut': 'CT','Delaware': 'DE','District of Columbia': 'D.C.','Florida': 'FL','Georgia': 'GA','Hawaii': 'HI','Idaho': 'ID','Illinois': 'IL','Indiana': 'IN','Iowa': 'IA','Kansas': 'KS','Kentucky': 'KY','Louisiana': 'LA','Maine': 'ME','Maryland': 'MD','Massachusetts': 'MA','Michigan': 'MI','Minnesota': 'MN','Mississippi': 'MS','Missouri': 'MO',\n",
    "    'Montana': 'MT','Nebraska': 'NE','Nevada': 'NV','New Hampshire': 'NH','New Jersey': 'NJ','New Mexico': 'NM','New York': 'NY','North Carolina': 'NC','North Dakota': 'ND','Northern Mariana Islands':'MP','Ohio': 'OH','Oklahoma': 'OK','Oregon': 'OR','Palau': 'PW','Pennsylvania': 'PA',\n",
    "    'Puerto Rico': 'PR','Rhode Island': 'RI','South Carolina': 'SC','South Dakota': 'SD','Tennessee': 'TN','Texas': 'TX','Utah': 'UT','Vermont': 'VT','Virgin Islands': 'VI','Virginia': 'VA','Washington': 'WA','West Virginia': 'WV','Wisconsin': 'WI','Wyoming': 'WY'\n",
    "}"
   ]
  },
  {
   "cell_type": "code",
   "execution_count": 6,
   "metadata": {},
   "outputs": [],
   "source": [
    "top_gdp = {\n",
    "    'US', 'China', 'Japan', 'Germany', 'India', 'UK', 'France', 'Brazil', 'Italy', 'Canada'\n",
    "}\n",
    "next_top_gdp = {\n",
    "    'Russia', 'South Korea', 'Australia', 'Spain', 'Mexico', 'Indonesia', 'Turkey', 'Netherlands', 'Saudi Arabia', 'Switzerland'\n",
    "}"
   ]
  },
  {
   "cell_type": "code",
   "execution_count": 7,
   "metadata": {},
   "outputs": [],
   "source": [
    "wb_stats = pd.read_csv('./reference/wb_population.csv')"
   ]
  },
  {
   "cell_type": "code",
   "execution_count": 8,
   "metadata": {},
   "outputs": [],
   "source": [
    "covid_19_full_metadata = pd.merge(covid_19, wb_stats, left_on='Country/Region', right_on='Country', how='left')"
   ]
  },
  {
   "cell_type": "code",
   "execution_count": 34,
   "metadata": {},
   "outputs": [],
   "source": [
    "class suppress_stdout_stderr(object):\n",
    "    '''\n",
    "    A context manager for doing a \"deep suppression\" of stdout and stderr in\n",
    "    Python, i.e. will suppress all print, even if the print originates in a\n",
    "    compiled C/Fortran sub-function.\n",
    "       This will not suppress raised exceptions, since exceptions are printed\n",
    "    to stderr just before a script exits, and after the context manager has\n",
    "    exited (at least, I think that is why it lets exceptions through).\n",
    "\n",
    "    '''\n",
    "    def __init__(self):\n",
    "        # Open a pair of null files\n",
    "        self.null_fds = [os.open(os.devnull, os.O_RDWR) for x in range(2)]\n",
    "        # Save the actual stdout (1) and stderr (2) file descriptors.\n",
    "        self.save_fds = [os.dup(1), os.dup(2)]\n",
    "\n",
    "    def __enter__(self):\n",
    "        # Assign the null pointers to stdout and stderr.\n",
    "        os.dup2(self.null_fds[0], 1)\n",
    "        os.dup2(self.null_fds[1], 2)\n",
    "\n",
    "    def __exit__(self, *_):\n",
    "        # Re-assign the real stdout/stderr back to (1) and (2)\n",
    "        os.dup2(self.save_fds[0], 1)\n",
    "        os.dup2(self.save_fds[1], 2)\n",
    "        # Close the null files\n",
    "        for fd in self.null_fds + self.save_fds:\n",
    "            os.close(fd)\n",
    "            \n",
    "def cleanStr(s):\n",
    "    c = s.lower().replace(' ', '_')\n",
    "    c = c.replace('*', '').replace('(', '_').replace(')', '_').replace(',', '_')\n",
    "    c = c.strip()\n",
    "    return c\n",
    "\n",
    "def getDf(country):\n",
    "    c = cleanStr(country)\n",
    "    \n",
    "    totals = covid_19_countries[covid_19_countries['Country/Region'] == country].copy()\n",
    "    cases = covid_19[covid_19['Country/Region'] == country].copy()\n",
    "    #let's clean up some bad reporting first\n",
    "    cases['Province/State'] = cases['Province/State'].str.rsplit(',').str[-1].str.strip()\n",
    "    cases['Province/State'] = cases['Province/State'].replace(us_state_abbrev)\n",
    "    cases = cases.groupby(['Last Update','Country/Region', 'Province/State'])['Confirmed','Deaths', 'Recovered'].sum().reset_index()\n",
    "    \n",
    "    #correct date parsing on some of the JH data\n",
    "    cases['Date'] = pd.to_datetime(cases['Last Update'])\n",
    "    totals['Date'] = pd.to_datetime(totals['Last Update'])\n",
    "    \n",
    "    #some backwards compat redundancy\n",
    "    cases['Death'] = cases['Deaths']\n",
    "    cases['Active Cases'] = cases['Confirmed'] - cases['Deaths'] - cases['Recovered']\n",
    "    totals['Death'] = totals['Deaths']\n",
    "    totals['Active Cases'] = totals['Confirmed'] - totals['Deaths'] - totals['Recovered']\n",
    "    \n",
    "    cases = cases.sort_values('Date')\n",
    "    totals = totals.sort_values('Date')\n",
    "    \n",
    "    cases = cases[cases['Confirmed'] > 0]\n",
    "    return cases, totals\n",
    "\n",
    "def analyze_country(country):\n",
    "    cases, totals = getDf(country)\n",
    "    \n",
    "    # totals overall\n",
    "    totals_state = totals[['Date', 'Active Cases', 'Recovered', 'Death']].melt(id_vars=['Date'], \n",
    "            value_vars=['Active Cases', 'Death', 'Recovered'], value_name=\"Population\", var_name='Status')\n",
    "    totals_chart = px.bar(totals_state, \n",
    "        x=\"Date\", y=\"Population\", color=\"Status\", title=country+\" Active, Recovered and Deaths by Date as of \" + str(NOW))\n",
    "    totals_chart.show()\n",
    "    totals_chart.write_image(\"images/\" + NOW_FILE + \"__\" + cleanStr(country) + \"active_recoverd_death.png\")\n",
    "\n",
    "def sim_country(country, pop_factor=100, b=0.3, g=1/36, dr=0.035, t=90):\n",
    "    cases, totals = getDf(country)\n",
    "    \n",
    "    N = cases['Confirmed'].max() * pop_factor\n",
    "    T=t\n",
    "    I0, R0 = 1000, 20\n",
    "    S0 = N - I0 - R0\n",
    "    beta, gamma = b, g\n",
    "    t = np.linspace(0, T, T)\n",
    "    y0 = S0, I0, R0\n",
    "\n",
    "    #SIR Deriv\n",
    "    def deriv(y, t, N, beta, gamma):\n",
    "        S, I, R = y\n",
    "        dSdt = -beta * S * I / N\n",
    "        dIdt = beta * S * I / N - gamma * I\n",
    "        dRdt = gamma * I\n",
    "        return dSdt, dIdt, dRdt\n",
    "\n",
    "    ret = odeint(deriv, y0, t, args=(N, beta, gamma))\n",
    "    S, I, R = ret.T\n",
    "\n",
    "    D = (I/1000000) * dr #totals['Death Rate'].mean()\n",
    "    R = (R/1000000) - D\n",
    "    dc = (np.max(D)*1000000)\n",
    "\n",
    "    fig = plt.figure(figsize=(24,7), facecolor='w')\n",
    "    ax = fig.add_subplot(111, axisbelow=True)\n",
    "    ax.plot(t, S/1000000, 'b', alpha=0.5, lw=2, label='Susceptible')\n",
    "    ax.plot(t, I/1000000, 'r', alpha=0.5, lw=2, label='Infected')\n",
    "    ax.plot(t, D, 'y', alpha=0.5, lw=2, label='Dead')\n",
    "    ax.plot(t, R, 'g', alpha=0.5, lw=2, label='Recovered with immunity')\n",
    "    ax.set_xlabel('Time /days')\n",
    "    ax.set_title(country.upper() + ' SIR+d model based on known disease characteristics and response at: '+str(NOW) + \n",
    "                '\\nTotal Infected: '+'{:,.0f}'.format(int(np.max(S)))+\n",
    "                '\\nTotal Recovered: '+'{:,.0f}'.format(int(np.max(R)*1000000))+\n",
    "                '\\nTotal Dead: '+'{:,.0f}'.format(int(np.max(D)*1000000)),\n",
    "                loc='left'\n",
    "                )\n",
    "    #ax.set_ylabel('Number (1000s)')\n",
    "    #ax.set_ylim(0,1.2)\n",
    "    ax.yaxis.set_tick_params(length=0)\n",
    "    ax.xaxis.set_tick_params(length=0)\n",
    "    ax.grid(b=True, which='major', c='w', lw=2, ls='-')\n",
    "    legend = ax.legend()\n",
    "    legend.get_frame().set_alpha(0.5)\n",
    "    for spine in ('top', 'right', 'bottom', 'left'):\n",
    "        ax.spines[spine].set_visible(False)\n",
    "    plt.show()\n",
    "\n",
    "def sim_state(country, state, pop_factor=100, b=0.3, g=1/36, dr=0.035, t=90):\n",
    "    cases, totals = getDf(country)\n",
    "    if country != state:\n",
    "        cases = cases[cases['Province/State'] == state]\n",
    "    cases = cases.sort_values('Date')\n",
    "    cases['New Cases'] = cases['Confirmed'].diff()\n",
    "    cases['New Deaths'] = cases['Deaths'].diff()\n",
    "    cases = cases.fillna(0)\n",
    "    cases['Active'] = cases['Confirmed'] - cases['Deaths'] - cases['Recovered']\n",
    "    cases = cases.fillna(0)\n",
    "    \n",
    "    cases['Rolling New'] = cases['New Cases'].rolling(7).mean().fillna(0)\n",
    "    \n",
    "    N = cases['Confirmed'].max() * pop_factor\n",
    "    T=t\n",
    "    I0, R0 = 1000, 20\n",
    "    S0 = N - I0 - R0\n",
    "    beta, gamma = b, g\n",
    "    t = np.linspace(0, T, T)\n",
    "    y0 = S0, I0, R0\n",
    "\n",
    "    #SIR Deriv\n",
    "    def deriv(y, t, N, beta, gamma):\n",
    "        S, I, R = y\n",
    "        dSdt = -beta * S * I / N\n",
    "        dIdt = beta * S * I / N - gamma * I\n",
    "        dRdt = gamma * I\n",
    "        return dSdt, dIdt, dRdt\n",
    "\n",
    "    ret = odeint(deriv, y0, t, args=(N, beta, gamma))\n",
    "    S, I, R = ret.T\n",
    "\n",
    "    D = (I/1000000) * dr #totals['Death Rate'].mean()\n",
    "    R = (R/1000000) - D\n",
    "    dc = (np.max(D)*1000000)\n",
    "\n",
    "    fig = plt.figure(figsize=(24,7), facecolor='w')\n",
    "    ax = fig.add_subplot(111, axisbelow=True)\n",
    "    ax.plot(t, S/1000000, 'b', alpha=0.5, lw=2, label='Susceptible')\n",
    "    ax.plot(t, I/1000000, 'r', alpha=0.5, lw=2, label='Infected')\n",
    "    ax.plot(t, D, 'y', alpha=0.5, lw=2, label='Dead')\n",
    "    ax.plot(t, R, 'g', alpha=0.5, lw=2, label='Recovered with immunity')\n",
    "    ax.set_xlabel('Time /days')\n",
    "    ax.set_title(state.upper() + ', ' + country.upper() + '' + ' SIR+d model based on known disease characteristics and response at: '+str(NOW) + \n",
    "                '\\nTotal Infected: '+'{:,.0f}'.format(int(np.max(S)))+\n",
    "                '\\nTotal Recovered: '+'{:,.0f}'.format(int(np.max(R)*1000000))+\n",
    "                '\\nTotal Dead: '+'{:,.0f}'.format(int(np.max(D)*1000000)),\n",
    "                loc='left'\n",
    "                )\n",
    "    #ax.set_ylabel('Number (1000s)')\n",
    "    #ax.set_ylim(0,1.2)\n",
    "    ax.yaxis.set_tick_params(length=0)\n",
    "    ax.xaxis.set_tick_params(length=0)\n",
    "    ax.grid(b=True, which='major', c='w', lw=2, ls='-')\n",
    "    legend = ax.legend()\n",
    "    legend.get_frame().set_alpha(0.5)\n",
    "    for spine in ('top', 'right', 'bottom', 'left'):\n",
    "        ax.spines[spine].set_visible(False)\n",
    "    plt.show()\n",
    "\n",
    "def pred_country(country, t=90, infectivity_factor=180, gMethod='linear', disp=True):\n",
    "    cases, totals = getDf(country)\n",
    "    \n",
    "    # now let's run the forecast with fbprophet\n",
    "    fb_df = totals[['Date', 'Active Cases']].copy()\n",
    "    fb_df = fb_df.sort_values('Date').reset_index(drop=True)\n",
    "    fb_df.columns = ['ds','y']\n",
    "    #fb_df['cap'] = totals['Death'] * infectivity_factor\n",
    "    cap = fb_df['y'].max() * 2\n",
    "    fb_df['floor'] = 0\n",
    "    fb_df['cap'] = cap\n",
    "    #print(fb_df)\n",
    "\n",
    "    with suppress_stdout_stderr():\n",
    "        m = Prophet(yearly_seasonality=False, weekly_seasonality=False, daily_seasonality=False, growth='logistic', \n",
    "            interval_width=0.97,\n",
    "            n_changepoints=6, \n",
    "            changepoint_prior_scale=0.5)\n",
    "        m.add_country_holidays(country_name='US')\n",
    "        m.add_seasonality(name='daily', period=1, fourier_order=3, mode='additive')\n",
    "        m.add_seasonality(name='weekly', period=14, fourier_order=28, mode='additive')\n",
    "        m.fit(fb_df)\n",
    "        future = m.make_future_dataframe(periods=t)\n",
    "        #future['cap'] = totals['Death'].max() * infectivity_factor\n",
    "        future['floor'] = 0\n",
    "        future['cap'] = cap\n",
    "        forecast = m.predict(future)\n",
    "        py.init_notebook_mode()\n",
    "\n",
    "        fig = plot_plotly(m, forecast, xlabel='Date', ylabel='Active Cases', uncertainty=True, figsize=(1100,600))  # This returns a plotly Figure\n",
    "        fig.update_layout(title='Active '+country+' COVID-19 Cases and Forecast ('+str(t)+' day) as of ' + str(NOW))\n",
    "\n",
    "        c = cleanStr(country)\n",
    "        os.makedirs(\"./images/\" + c + \"/\" + NOW_FILE, exist_ok=True)\n",
    "        fig.write_image(\"./images/\" + c + \"/\" + NOW_FILE + \"/\" + NOW_FILE + \"__\" + c + \"_forecast_\" + str(t) + \"_day.png\")\n",
    "\n",
    "        if disp:\n",
    "            py.iplot(fig)\n",
    "\n",
    "def pred_province(country, province, t=90, infectivity_factor=180, gMethod='linear', disp=True, value='Confirmed'):\n",
    "    cases, totals = getDf(country)\n",
    "    if country != province:\n",
    "        cases = cases[cases['Province/State'] == province]\n",
    "    cases = cases.sort_values('Date')\n",
    "    cases['New Cases'] = cases['Confirmed'].diff()\n",
    "    cases['New Deaths'] = cases['Deaths'].diff()\n",
    "    cases = cases.fillna(0)\n",
    "    cases['Active'] = cases['Confirmed'] - cases['Deaths'] - cases['Recovered']\n",
    "    cases = cases.fillna(0)\n",
    "    \n",
    "    cases['Rolling New'] = cases['New Cases'].rolling(7).mean().fillna(0)\n",
    "    \n",
    "    #print('Total records so far: ', totals.shape[0])\n",
    "    # now let's run the forecast with fbprophet\n",
    "    fb_df = cases[['Date', value]].copy()\n",
    "    fb_df = fb_df.sort_values('Date').reset_index(drop=True)\n",
    "    fb_df.columns = ['ds','y']\n",
    "    #fb_df['cap'] = totals['Death'] * infectivity_factor\n",
    "    cap = fb_df['y'].max() * 2\n",
    "    fb_df['floor'] = 0\n",
    "    fb_df['cap'] = cap\n",
    "    #print(fb_df)\n",
    "\n",
    "    with suppress_stdout_stderr():\n",
    "        m = Prophet(yearly_seasonality=False, weekly_seasonality=False, daily_seasonality=False, growth='logistic', \n",
    "            interval_width=0.97,\n",
    "            n_changepoints=6, \n",
    "            changepoint_prior_scale=0.5)\n",
    "        m.add_country_holidays(country_name='US')\n",
    "        m.add_seasonality(name='daily', period=1, fourier_order=3, mode='additive')\n",
    "        m.add_seasonality(name='weekly', period=14, fourier_order=28, mode='additive')\n",
    "        m.fit(fb_df)\n",
    "        future = m.make_future_dataframe(periods=t)\n",
    "        #future['cap'] = totals['Death'].max() * infectivity_factor\n",
    "        future['floor'] = 0\n",
    "        future['cap'] = cap\n",
    "        forecast = m.predict(future)\n",
    "        py.init_notebook_mode()\n",
    "\n",
    "        fig = plot_plotly(m, forecast, xlabel='Date', ylabel=value, uncertainty=True, figsize=(1100,600))  # This returns a plotly Figure\n",
    "        fig.update_layout(title=province+', '+country+' '+value+' COVID-19 Cases and Forecast ('+str(t)+' day) as of ' + str(NOW))\n",
    "\n",
    "        if disp:\n",
    "            py.iplot(fig)\n",
    "#     pl = px.bar(cases['Date'], cases['New Cases'])\n",
    "#     pl.show()\n",
    "def get_doubling(y):\n",
    "    ylen = len(y)\n",
    "    dbl = np.zeros(ylen)\n",
    "    for i in range( ylen - 1, -1, -1):\n",
    "        target = y[i]\n",
    "        count = 0\n",
    "        for j in range(i, -1, -1):\n",
    "            diff = target-y[j]\n",
    "            exact = target / 2\n",
    "            if diff  > exact:\n",
    "                f = (exact - y[j]) / (y[j]-y[j+1]) + count\n",
    "                dbl[i] = f\n",
    "                break\n",
    "            else:\n",
    "                count = count+1\n",
    "    return dbl\n",
    "def display_doubling(country, province, remove_zeros=False):\n",
    "    cases, totals = getDf(country)\n",
    "    if country != province:\n",
    "        cases = cases[cases['Province/State'] == province]\n",
    "    else:\n",
    "        cases = cases.groupby('Last Update').sum().reset_index()\n",
    "    cases = cases.sort_values('Last Update')\n",
    "    \n",
    "    if remove_zeros:\n",
    "        cases = cases[cases['Confirmed'] > 0 ]\n",
    "    \n",
    "    cases['Doubling'] = get_doubling(cases['Confirmed'].values)\n",
    "    cases['Doubling Time'] = 1 / np.log2(1+((cases['Confirmed'] - cases['Confirmed'].shift(1)) / cases['Confirmed'].shift(1)))\n",
    "    \n",
    "    fig, ax = plt.subplots(figsize=(14, 14))\n",
    "    ax2 = ax.twinx()\n",
    "\n",
    "    sns.lineplot(x=cases['Last Update'], y=cases['Doubling'], ax=ax, ci=99.9, color='blue', label='Doubling Time (days)', legend='brief')\n",
    "    sns.lineplot(x=cases['Last Update'], y=cases['Confirmed'], ax=ax2, ci=99.9, color='red', label='Confirmed Cases', legend='brief')\n",
    "\n",
    "    ax.legend(loc='upper left')\n",
    "    ax2.legend(loc='upper right')\n",
    "    ax2.set(yscale=\"log\") \n",
    "\n",
    "def display_log_new_conf(country, province, remove_zeros=False):\n",
    "    cases, totals = getDf(country)\n",
    "    if country != province:\n",
    "        cases = cases[cases['Province/State'] == province]\n",
    "    else:\n",
    "        cases = cases.groupby('Last Update').sum().reset_index()\n",
    "    cases = cases.sort_values('Last Update')\n",
    "    if remove_zeros:\n",
    "        cases = cases[cases['Confirmed'] > 0 ]\n",
    "    \n",
    "    cases['New Cases'] = cases['Confirmed'].diff()\n",
    "    \n",
    "    fig, ax = plt.subplots(figsize=(14, 14))\n",
    "    ax.set(yscale=\"log\", xscale=\"log\") \n",
    "    sns.regplot(x=cases['Confirmed'], y=cases['New Cases'], ax=ax, ci=99.9)"
   ]
  },
  {
   "cell_type": "code",
   "execution_count": 32,
   "metadata": {},
   "outputs": [],
   "source": [
    "def display_sim(Country, Susceptible_Population_Factor, Infectivity, Infective_Days, Death_Rate, Days):\n",
    "    sim_country(Country, Susceptible_Population_Factor*100, Infectivity, 1/Infective_Days, Death_Rate/100.0, Days)\n",
    "\n",
    "def display_sim_state(Country, State, Susceptible_Population_Factor, Infectivity, Infective_Days, Death_Rate, Days):\n",
    "    sim_state(Country, State, Susceptible_Population_Factor*10, Infectivity, 1/Infective_Days, Death_Rate/100.0, Days)\n",
    "\n",
    "\n",
    "top_gdp_compare = [i for i in top_gdp if i not in ['China']] # let's pull china due to data discrepancies\n",
    "countries_lim = [i for i in countries if i not in top_gdp_compare]\n",
    "\n",
    "def compare_country(country):\n",
    "    days_set = covid_19[covid_19['days since 100 active - Country/Region'] >= 0].copy()\n",
    "    t_countries = list(top_gdp_compare.copy())\n",
    "    t_countries.append(country)\n",
    "    days_set = days_set[days_set['Country/Region'].isin(t_countries)]\n",
    "    days_set = days_set.groupby(['days since 100 active - Country/Region', 'Country/Region']).sum().reset_index()\n",
    "    \n",
    "    days_set = pd.merge(days_set, wb_stats, left_on='Country/Region', right_on='Country', how='left')\n",
    "    days_set = days_set.sort_values('days since 100 active - Country/Region')\n",
    "    days_set['Confirmed'] = days_set['Confirmed'].fillna(0)\n",
    "    days_set['Cases per 1m'] = ((days_set['Confirmed'] / days_set['Population, total 2018']) * 1000000)\n",
    "    days_set['Deaths per 1m'] = ((days_set['Deaths'] / days_set['Population, total 2018']) * 1000000)\n",
    "\n",
    "    world_chart = px.line(days_set, \n",
    "                          x=\"days since 100 active - Country/Region\", y=\"Active\", color=\"Country/Region\", \n",
    "                          title=\"Active Cases by Day of Outbreak\", log_y=True)\n",
    "    world_chart.show()\n",
    "    world_chart = px.line(days_set, \n",
    "                          x=\"days since 100 active - Country/Region\", y=\"Cases per 1m\", color=\"Country/Region\", \n",
    "                          title=\"Per Capita Confirmed Cases by Day of Outbreak\", log_y=False)\n",
    "    world_chart.show()\n",
    "    world_chart = px.line(days_set, \n",
    "                          x=\"days since 100 active - Country/Region\", y=\"Deaths per 1m\", color=\"Country/Region\", \n",
    "                          title=\"Per Capita Deaths by Day of Outbreak\", log_y=False)\n",
    "    world_chart.show()\n",
    "\n",
    "\n",
    "def display_compare_country(Country):\n",
    "    compare_country(Country)\n",
    "\n",
    "\n",
    "def display_pred(Country, Days):\n",
    "    pred_country(Country, Days, infectivity_factor=180, gMethod='logistic')\n",
    "\n",
    "def display_country(Country):\n",
    "    analyze_country(Country)"
   ]
  },
  {
   "cell_type": "code",
   "execution_count": 11,
   "metadata": {},
   "outputs": [
    {
     "data": {
      "application/vnd.jupyter.widget-view+json": {
       "model_id": "84af322c16b1424496d90b33cdc680d8",
       "version_major": 2,
       "version_minor": 0
      },
      "text/plain": [
       "interactive(children=(Dropdown(description='Country', options=('Afghanistan', 'Albania', 'Algeria', 'Andorra',…"
      ]
     },
     "metadata": {},
     "output_type": "display_data"
    }
   ],
   "source": [
    "interactive_plot_country = interactive(display_country, Country=countries)\n",
    "output = interactive_plot_country.children[-1]\n",
    "output.layout.height = '520px'\n",
    "output.layout.width = '1200px'\n",
    "interactive_plot_country"
   ]
  },
  {
   "cell_type": "code",
   "execution_count": 12,
   "metadata": {},
   "outputs": [
    {
     "data": {
      "application/vnd.jupyter.widget-view+json": {
       "model_id": "9c71f39c5eaa4f098a968eb9984cf9c4",
       "version_major": 2,
       "version_minor": 0
      },
      "text/plain": [
       "interactive(children=(Dropdown(description='Country', options=('Afghanistan', 'Albania', 'Algeria', 'Andorra',…"
      ]
     },
     "metadata": {},
     "output_type": "display_data"
    }
   ],
   "source": [
    "interactive_plot_country_forecast = interactive(display_pred, Country=countries, Days=widgets.IntSlider(min=3, max=14, step=1, value=5))\n",
    "output = interactive_plot_country_forecast.children[-1]\n",
    "output.layout.height = '600px'\n",
    "output.layout.width = '1200px'\n",
    "interactive_plot_country_forecast"
   ]
  },
  {
   "cell_type": "code",
   "execution_count": 13,
   "metadata": {},
   "outputs": [
    {
     "data": {
      "application/vnd.jupyter.widget-view+json": {
       "model_id": "e168934c3adb435b82687748bd6ef24e",
       "version_major": 2,
       "version_minor": 0
      },
      "text/plain": [
       "interactive(children=(Dropdown(description='Country', options=('Afghanistan', 'Albania', 'Algeria', 'Andorra',…"
      ]
     },
     "metadata": {},
     "output_type": "display_data"
    }
   ],
   "source": [
    "countryW = widgets.Dropdown(options = countries)\n",
    "\n",
    "@interact(Country=countryW)\n",
    "def updateState(Country):\n",
    "    cases, totals = getDf(Country)\n",
    "    display_doubling(Country, Country)\n",
    "    # display_log_new_conf(Country, Country, remove_zeros=False)"
   ]
  },
  {
   "cell_type": "code",
   "execution_count": 35,
   "metadata": {},
   "outputs": [
    {
     "data": {
      "application/vnd.jupyter.widget-view+json": {
       "model_id": "9f4c8d791d0744af93a6aa3371830257",
       "version_major": 2,
       "version_minor": 0
      },
      "text/plain": [
       "interactive(children=(Dropdown(description='Country', options=('Afghanistan', 'Albania', 'Algeria', 'Andorra',…"
      ]
     },
     "metadata": {},
     "output_type": "display_data"
    }
   ],
   "source": [
    "countryWf = widgets.Dropdown(options = countries)\n",
    "stateWf = widgets.Dropdown()\n",
    "daysWf = widgets.IntSlider(min=3, max=30, step=1, value=5)\n",
    "valueWf = widgets.Dropdown(options = ['Confirmed', 'Active', 'Recovered', 'Deaths', 'New Cases', 'New Deaths', 'Rolling New'])\n",
    "\n",
    "@interact(Country=countryWf, State=stateWf, Days=daysWf, Value=valueWf)\n",
    "def updateState(Country, State, Days, Value):\n",
    "    cases, totals = getDf(Country)\n",
    "    sts = cases['Province/State'].unique()\n",
    "    sts.sort()\n",
    "    stateWf.options = sts\n",
    "    pred_province(Country, State, Days, infectivity_factor=180, gMethod='logistic', value=Value)"
   ]
  },
  {
   "cell_type": "code",
   "execution_count": 15,
   "metadata": {},
   "outputs": [
    {
     "data": {
      "application/vnd.jupyter.widget-view+json": {
       "model_id": "5f42ef0b3f1f4e62aaed8f01df30799b",
       "version_major": 2,
       "version_minor": 0
      },
      "text/plain": [
       "interactive(children=(Dropdown(description='Country', options=('Afghanistan', 'Albania', 'Algeria', 'Andorra',…"
      ]
     },
     "metadata": {},
     "output_type": "display_data"
    }
   ],
   "source": [
    "countryWd = widgets.Dropdown(options = countries)\n",
    "stateWd = widgets.Dropdown()\n",
    "\n",
    "@interact(Country=countryWd, State=stateWd)\n",
    "def updateState(Country, State):\n",
    "    cases, totals = getDf(Country)\n",
    "    sts = cases['Province/State'].unique()\n",
    "    sts.sort()\n",
    "    stateWd.options = sts\n",
    "    #display_log_new_conf(Country, State, False)\n",
    "    display_doubling(Country, State, False)"
   ]
  },
  {
   "cell_type": "code",
   "execution_count": 16,
   "metadata": {},
   "outputs": [
    {
     "data": {
      "application/vnd.jupyter.widget-view+json": {
       "model_id": "d05e5e8a2aec40bca1027f4134348855",
       "version_major": 2,
       "version_minor": 0
      },
      "text/plain": [
       "interactive(children=(Dropdown(description='Country', options=('Afghanistan', 'Albania', 'Algeria', 'Andorra',…"
      ]
     },
     "metadata": {},
     "output_type": "display_data"
    }
   ],
   "source": [
    "interactive_plot_sim = interactive(display_sim, Country=countries,\n",
    "                              Susceptible_Population_Factor=widgets.IntSlider(min=1, max=35, step=1, value=1),\n",
    "                              Infectivity=widgets.FloatSlider(min=0.01, max=4.000, step=0.01, value=0.15),\n",
    "                              Infective_Days=widgets.IntSlider(min=2, max=48, step=1, value=28),\n",
    "                              Death_Rate=widgets.FloatSlider(min=0.3, max=10.0, step=0.1, value=1.2),\n",
    "                              Days=widgets.IntSlider(min=30, max=365*4, step=1, value=180))\n",
    "\n",
    "output = interactive_plot_sim.children[-1]\n",
    "output.layout.height = '540px'\n",
    "output.layout.width = '1200px'\n",
    "interactive_plot_sim"
   ]
  },
  {
   "cell_type": "code",
   "execution_count": 33,
   "metadata": {},
   "outputs": [
    {
     "data": {
      "application/vnd.jupyter.widget-view+json": {
       "model_id": "0bab210e88354cf0b9117d681e427ae9",
       "version_major": 2,
       "version_minor": 0
      },
      "text/plain": [
       "interactive(children=(Dropdown(description='Country', options=('Afghanistan', 'Albania', 'Algeria', 'Andorra',…"
      ]
     },
     "metadata": {},
     "output_type": "display_data"
    },
    {
     "data": {
      "image/png": "[encoded data removed]",
      "text/plain": [
       "<Figure size 1728x504 with 1 Axes>"
      ]
     },
     "metadata": {},
     "output_type": "display_data"
    }
   ],
   "source": [
    "countryWdSim = widgets.Dropdown(options = countries)\n",
    "stateWdSim = widgets.Dropdown()\n",
    "\n",
    "@interact(Country=countryWdSim, State=stateWdSim,\n",
    "          Susceptible_Population_Factor=widgets.IntSlider(min=1, max=35, step=1, value=1),\n",
    "          Infectivity=widgets.FloatSlider(min=0.01, max=4.000, step=0.01, value=0.15),\n",
    "          Infective_Days=widgets.IntSlider(min=2, max=48, step=1, value=28),\n",
    "          Death_Rate=widgets.FloatSlider(min=0.3, max=10.0, step=0.1, value=1.2),\n",
    "          Days=widgets.IntSlider(min=30, max=365*4, step=1, value=180))\n",
    "def simState(Country, State, Susceptible_Population_Factor, Infectivity, Infective_Days, Death_Rate, Days):\n",
    "    cases, totals = getDf(Country)\n",
    "    sts = cases['Province/State'].unique()\n",
    "    sts.sort()\n",
    "    stateWdSim.options = sts\n",
    "    display_sim_state(Country, State, Susceptible_Population_Factor, Infectivity, Infective_Days, Death_Rate, Days)"
   ]
  },
  {
   "cell_type": "code",
   "execution_count": 17,
   "metadata": {},
   "outputs": [
    {
     "data": {
      "application/vnd.jupyter.widget-view+json": {
       "model_id": "db276ce95e464ae19caa048a2489bd63",
       "version_major": 2,
       "version_minor": 0
      },
      "text/plain": [
       "interactive(children=(Dropdown(description='Country', options=('Afghanistan', 'Albania', 'Algeria', 'Andorra',…"
      ]
     },
     "metadata": {},
     "output_type": "display_data"
    }
   ],
   "source": [
    "interactive_plot_stats = interactive(display_compare_country, Country=countries_lim)\n",
    "output = interactive_plot_stats.children[-1]\n",
    "output.layout.height = '1400px'\n",
    "output.layout.width = '1200px'\n",
    "interactive_plot_stats"
   ]
  },
  {
   "cell_type": "code",
   "execution_count": null,
   "metadata": {},
   "outputs": [],
   "source": []
  }
 ],
 "metadata": {
  "kernelspec": {
   "display_name": "Python 3",
   "language": "python",
   "name": "python3"
  },
  "language_info": {
   "codemirror_mode": {
    "name": "ipython",
    "version": 3
   },
   "file_extension": ".py",
   "mimetype": "text/x-python",
   "name": "python",
   "nbconvert_exporter": "python",
   "pygments_lexer": "ipython3",
   "version": "3.7.6"
  }
 },
 "nbformat": 4,
 "nbformat_minor": 4
}
