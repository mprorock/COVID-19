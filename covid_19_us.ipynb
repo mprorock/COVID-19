{
 "cells": [
  {
   "cell_type": "code",
   "execution_count": 1,
   "metadata": {},
   "outputs": [],
   "source": [
    "# run initial imports\n",
    "import numpy as np\n",
    "import pandas as pd\n",
    "import plotly.express as px\n",
    "import plotly.graph_objs as go\n",
    "from scipy.integrate import odeint\n",
    "from scipy.optimize import curve_fit\n",
    "import matplotlib.pyplot as plt\n",
    "\n",
    "from sklearn.metrics import r2_score\n",
    "from sklearn.linear_model import Ridge\n",
    "from sklearn.preprocessing import PolynomialFeatures\n",
    "from sklearn.pipeline import make_pipeline\n",
    "\n",
    "from fbprophet import Prophet\n",
    "\n",
    "from ipywidgets import widgets\n",
    "\n",
    "from fbprophet.plot import plot_plotly\n",
    "import plotly.offline as py\n",
    "\n",
    "from datetime import datetime"
   ]
  },
  {
   "cell_type": "code",
   "execution_count": 2,
   "metadata": {},
   "outputs": [],
   "source": [
    "NOW = datetime.now()"
   ]
  },
  {
   "cell_type": "code",
   "execution_count": 3,
   "metadata": {},
   "outputs": [
    {
     "ename": "FileNotFoundError",
     "evalue": "[Errno 2] File ./data/countries/us/covid_19_us_cases.csv does not exist: './data/countries/us/covid_19_us_cases.csv'",
     "output_type": "error",
     "traceback": [
      "\u001b[0;31m---------------------------------------------------------------------------\u001b[0m",
      "\u001b[0;31mFileNotFoundError\u001b[0m                         Traceback (most recent call last)",
      "\u001b[0;32m<ipython-input-3-a6301ccaf0fc>\u001b[0m in \u001b[0;36m<module>\u001b[0;34m\u001b[0m\n\u001b[1;32m      2\u001b[0m \u001b[0mcountry\u001b[0m \u001b[0;34m=\u001b[0m \u001b[0;34m'us'\u001b[0m\u001b[0;34m\u001b[0m\u001b[0;34m\u001b[0m\u001b[0m\n\u001b[1;32m      3\u001b[0m \u001b[0minput_dir\u001b[0m \u001b[0;34m=\u001b[0m \u001b[0;34m'./data/countries/'\u001b[0m \u001b[0;34m+\u001b[0m \u001b[0mcountry\u001b[0m \u001b[0;34m+\u001b[0m \u001b[0;34m'/'\u001b[0m\u001b[0;34m\u001b[0m\u001b[0;34m\u001b[0m\u001b[0m\n\u001b[0;32m----> 4\u001b[0;31m \u001b[0mus_cases\u001b[0m \u001b[0;34m=\u001b[0m \u001b[0mpd\u001b[0m\u001b[0;34m.\u001b[0m\u001b[0mread_csv\u001b[0m\u001b[0;34m(\u001b[0m\u001b[0minput_dir\u001b[0m \u001b[0;34m+\u001b[0m \u001b[0;34m'covid_19_'\u001b[0m\u001b[0;34m+\u001b[0m \u001b[0mcountry\u001b[0m \u001b[0;34m+\u001b[0m\u001b[0;34m'_cases.csv'\u001b[0m\u001b[0;34m)\u001b[0m\u001b[0;34m\u001b[0m\u001b[0;34m\u001b[0m\u001b[0m\n\u001b[0m\u001b[1;32m      5\u001b[0m \u001b[0mus_totals\u001b[0m \u001b[0;34m=\u001b[0m \u001b[0mpd\u001b[0m\u001b[0;34m.\u001b[0m\u001b[0mread_csv\u001b[0m\u001b[0;34m(\u001b[0m\u001b[0minput_dir\u001b[0m \u001b[0;34m+\u001b[0m \u001b[0;34m'./covid_19_'\u001b[0m \u001b[0;34m+\u001b[0m \u001b[0mcountry\u001b[0m \u001b[0;34m+\u001b[0m \u001b[0;34m'_totals.csv'\u001b[0m\u001b[0;34m)\u001b[0m\u001b[0;34m\u001b[0m\u001b[0;34m\u001b[0m\u001b[0m\n",
      "\u001b[0;32m~/devel/miniconda3/lib/python3.7/site-packages/pandas/io/parsers.py\u001b[0m in \u001b[0;36mparser_f\u001b[0;34m(filepath_or_buffer, sep, delimiter, header, names, index_col, usecols, squeeze, prefix, mangle_dupe_cols, dtype, engine, converters, true_values, false_values, skipinitialspace, skiprows, skipfooter, nrows, na_values, keep_default_na, na_filter, verbose, skip_blank_lines, parse_dates, infer_datetime_format, keep_date_col, date_parser, dayfirst, cache_dates, iterator, chunksize, compression, thousands, decimal, lineterminator, quotechar, quoting, doublequote, escapechar, comment, encoding, dialect, error_bad_lines, warn_bad_lines, delim_whitespace, low_memory, memory_map, float_precision)\u001b[0m\n\u001b[1;32m    674\u001b[0m         )\n\u001b[1;32m    675\u001b[0m \u001b[0;34m\u001b[0m\u001b[0m\n\u001b[0;32m--> 676\u001b[0;31m         \u001b[0;32mreturn\u001b[0m \u001b[0m_read\u001b[0m\u001b[0;34m(\u001b[0m\u001b[0mfilepath_or_buffer\u001b[0m\u001b[0;34m,\u001b[0m \u001b[0mkwds\u001b[0m\u001b[0;34m)\u001b[0m\u001b[0;34m\u001b[0m\u001b[0;34m\u001b[0m\u001b[0m\n\u001b[0m\u001b[1;32m    677\u001b[0m \u001b[0;34m\u001b[0m\u001b[0m\n\u001b[1;32m    678\u001b[0m     \u001b[0mparser_f\u001b[0m\u001b[0;34m.\u001b[0m\u001b[0m__name__\u001b[0m \u001b[0;34m=\u001b[0m \u001b[0mname\u001b[0m\u001b[0;34m\u001b[0m\u001b[0;34m\u001b[0m\u001b[0m\n",
      "\u001b[0;32m~/devel/miniconda3/lib/python3.7/site-packages/pandas/io/parsers.py\u001b[0m in \u001b[0;36m_read\u001b[0;34m(filepath_or_buffer, kwds)\u001b[0m\n\u001b[1;32m    446\u001b[0m \u001b[0;34m\u001b[0m\u001b[0m\n\u001b[1;32m    447\u001b[0m     \u001b[0;31m# Create the parser.\u001b[0m\u001b[0;34m\u001b[0m\u001b[0;34m\u001b[0m\u001b[0;34m\u001b[0m\u001b[0m\n\u001b[0;32m--> 448\u001b[0;31m     \u001b[0mparser\u001b[0m \u001b[0;34m=\u001b[0m \u001b[0mTextFileReader\u001b[0m\u001b[0;34m(\u001b[0m\u001b[0mfp_or_buf\u001b[0m\u001b[0;34m,\u001b[0m \u001b[0;34m**\u001b[0m\u001b[0mkwds\u001b[0m\u001b[0;34m)\u001b[0m\u001b[0;34m\u001b[0m\u001b[0;34m\u001b[0m\u001b[0m\n\u001b[0m\u001b[1;32m    449\u001b[0m \u001b[0;34m\u001b[0m\u001b[0m\n\u001b[1;32m    450\u001b[0m     \u001b[0;32mif\u001b[0m \u001b[0mchunksize\u001b[0m \u001b[0;32mor\u001b[0m \u001b[0miterator\u001b[0m\u001b[0;34m:\u001b[0m\u001b[0;34m\u001b[0m\u001b[0;34m\u001b[0m\u001b[0m\n",
      "\u001b[0;32m~/devel/miniconda3/lib/python3.7/site-packages/pandas/io/parsers.py\u001b[0m in \u001b[0;36m__init__\u001b[0;34m(self, f, engine, **kwds)\u001b[0m\n\u001b[1;32m    878\u001b[0m             \u001b[0mself\u001b[0m\u001b[0;34m.\u001b[0m\u001b[0moptions\u001b[0m\u001b[0;34m[\u001b[0m\u001b[0;34m\"has_index_names\"\u001b[0m\u001b[0;34m]\u001b[0m \u001b[0;34m=\u001b[0m \u001b[0mkwds\u001b[0m\u001b[0;34m[\u001b[0m\u001b[0;34m\"has_index_names\"\u001b[0m\u001b[0;34m]\u001b[0m\u001b[0;34m\u001b[0m\u001b[0;34m\u001b[0m\u001b[0m\n\u001b[1;32m    879\u001b[0m \u001b[0;34m\u001b[0m\u001b[0m\n\u001b[0;32m--> 880\u001b[0;31m         \u001b[0mself\u001b[0m\u001b[0;34m.\u001b[0m\u001b[0m_make_engine\u001b[0m\u001b[0;34m(\u001b[0m\u001b[0mself\u001b[0m\u001b[0;34m.\u001b[0m\u001b[0mengine\u001b[0m\u001b[0;34m)\u001b[0m\u001b[0;34m\u001b[0m\u001b[0;34m\u001b[0m\u001b[0m\n\u001b[0m\u001b[1;32m    881\u001b[0m \u001b[0;34m\u001b[0m\u001b[0m\n\u001b[1;32m    882\u001b[0m     \u001b[0;32mdef\u001b[0m \u001b[0mclose\u001b[0m\u001b[0;34m(\u001b[0m\u001b[0mself\u001b[0m\u001b[0;34m)\u001b[0m\u001b[0;34m:\u001b[0m\u001b[0;34m\u001b[0m\u001b[0;34m\u001b[0m\u001b[0m\n",
      "\u001b[0;32m~/devel/miniconda3/lib/python3.7/site-packages/pandas/io/parsers.py\u001b[0m in \u001b[0;36m_make_engine\u001b[0;34m(self, engine)\u001b[0m\n\u001b[1;32m   1112\u001b[0m     \u001b[0;32mdef\u001b[0m \u001b[0m_make_engine\u001b[0m\u001b[0;34m(\u001b[0m\u001b[0mself\u001b[0m\u001b[0;34m,\u001b[0m \u001b[0mengine\u001b[0m\u001b[0;34m=\u001b[0m\u001b[0;34m\"c\"\u001b[0m\u001b[0;34m)\u001b[0m\u001b[0;34m:\u001b[0m\u001b[0;34m\u001b[0m\u001b[0;34m\u001b[0m\u001b[0m\n\u001b[1;32m   1113\u001b[0m         \u001b[0;32mif\u001b[0m \u001b[0mengine\u001b[0m \u001b[0;34m==\u001b[0m \u001b[0;34m\"c\"\u001b[0m\u001b[0;34m:\u001b[0m\u001b[0;34m\u001b[0m\u001b[0;34m\u001b[0m\u001b[0m\n\u001b[0;32m-> 1114\u001b[0;31m             \u001b[0mself\u001b[0m\u001b[0;34m.\u001b[0m\u001b[0m_engine\u001b[0m \u001b[0;34m=\u001b[0m \u001b[0mCParserWrapper\u001b[0m\u001b[0;34m(\u001b[0m\u001b[0mself\u001b[0m\u001b[0;34m.\u001b[0m\u001b[0mf\u001b[0m\u001b[0;34m,\u001b[0m \u001b[0;34m**\u001b[0m\u001b[0mself\u001b[0m\u001b[0;34m.\u001b[0m\u001b[0moptions\u001b[0m\u001b[0;34m)\u001b[0m\u001b[0;34m\u001b[0m\u001b[0;34m\u001b[0m\u001b[0m\n\u001b[0m\u001b[1;32m   1115\u001b[0m         \u001b[0;32melse\u001b[0m\u001b[0;34m:\u001b[0m\u001b[0;34m\u001b[0m\u001b[0;34m\u001b[0m\u001b[0m\n\u001b[1;32m   1116\u001b[0m             \u001b[0;32mif\u001b[0m \u001b[0mengine\u001b[0m \u001b[0;34m==\u001b[0m \u001b[0;34m\"python\"\u001b[0m\u001b[0;34m:\u001b[0m\u001b[0;34m\u001b[0m\u001b[0;34m\u001b[0m\u001b[0m\n",
      "\u001b[0;32m~/devel/miniconda3/lib/python3.7/site-packages/pandas/io/parsers.py\u001b[0m in \u001b[0;36m__init__\u001b[0;34m(self, src, **kwds)\u001b[0m\n\u001b[1;32m   1889\u001b[0m         \u001b[0mkwds\u001b[0m\u001b[0;34m[\u001b[0m\u001b[0;34m\"usecols\"\u001b[0m\u001b[0;34m]\u001b[0m \u001b[0;34m=\u001b[0m \u001b[0mself\u001b[0m\u001b[0;34m.\u001b[0m\u001b[0musecols\u001b[0m\u001b[0;34m\u001b[0m\u001b[0;34m\u001b[0m\u001b[0m\n\u001b[1;32m   1890\u001b[0m \u001b[0;34m\u001b[0m\u001b[0m\n\u001b[0;32m-> 1891\u001b[0;31m         \u001b[0mself\u001b[0m\u001b[0;34m.\u001b[0m\u001b[0m_reader\u001b[0m \u001b[0;34m=\u001b[0m \u001b[0mparsers\u001b[0m\u001b[0;34m.\u001b[0m\u001b[0mTextReader\u001b[0m\u001b[0;34m(\u001b[0m\u001b[0msrc\u001b[0m\u001b[0;34m,\u001b[0m \u001b[0;34m**\u001b[0m\u001b[0mkwds\u001b[0m\u001b[0;34m)\u001b[0m\u001b[0;34m\u001b[0m\u001b[0;34m\u001b[0m\u001b[0m\n\u001b[0m\u001b[1;32m   1892\u001b[0m         \u001b[0mself\u001b[0m\u001b[0;34m.\u001b[0m\u001b[0munnamed_cols\u001b[0m \u001b[0;34m=\u001b[0m \u001b[0mself\u001b[0m\u001b[0;34m.\u001b[0m\u001b[0m_reader\u001b[0m\u001b[0;34m.\u001b[0m\u001b[0munnamed_cols\u001b[0m\u001b[0;34m\u001b[0m\u001b[0;34m\u001b[0m\u001b[0m\n\u001b[1;32m   1893\u001b[0m \u001b[0;34m\u001b[0m\u001b[0m\n",
      "\u001b[0;32mpandas/_libs/parsers.pyx\u001b[0m in \u001b[0;36mpandas._libs.parsers.TextReader.__cinit__\u001b[0;34m()\u001b[0m\n",
      "\u001b[0;32mpandas/_libs/parsers.pyx\u001b[0m in \u001b[0;36mpandas._libs.parsers.TextReader._setup_parser_source\u001b[0;34m()\u001b[0m\n",
      "\u001b[0;31mFileNotFoundError\u001b[0m: [Errno 2] File ./data/countries/us/covid_19_us_cases.csv does not exist: './data/countries/us/covid_19_us_cases.csv'"
     ]
    }
   ],
   "source": [
    "#setup initial data frames\n",
    "country = 'us'\n",
    "input_dir = './data/countries/' + country + '/'\n",
    "us_cases = pd.read_csv(input_dir + 'covid_19_'+ country +'_cases.csv')\n",
    "us_totals = pd.read_csv(input_dir + './covid_19_' + country + '_totals.csv')"
   ]
  },
  {
   "cell_type": "code",
   "execution_count": null,
   "metadata": {},
   "outputs": [],
   "source": []
  },
  {
   "cell_type": "code",
   "execution_count": null,
   "metadata": {},
   "outputs": [],
   "source": [
    "#google docs from covidtracking.com\n",
    "#us_ct = pd.read_csv('http://covidtracking.com/api/states.csv')"
   ]
  },
  {
   "cell_type": "code",
   "execution_count": null,
   "metadata": {},
   "outputs": [],
   "source": [
    "#correct date parsing on some of the JH data\n",
    "us_cases['Date'] = pd.to_datetime(us_cases['Date'])\n",
    "us_totals['Date'] = pd.to_datetime(us_totals['Date'])"
   ]
  },
  {
   "cell_type": "code",
   "execution_count": null,
   "metadata": {},
   "outputs": [],
   "source": [
    "# some basic metadata here\n",
    "US_pop = 330435890\n",
    "US_tests = 58536\n",
    "us_totals['Active Pop PCT'] = us_totals['Active Cases'] / US_pop\n",
    "US_tr = US_tests / US_pop\n",
    "# per capita test rate in china\n",
    "CHINA_pop = 1408526449\n",
    "CHINA_pop_GD = 113500000\n",
    "CHINA_tests_GD = 320000\n",
    "CHINA_tr = CHINA_tests_GD / CHINA_pop_GD\n",
    "print('CN Test Rate:', CHINA_tr)\n",
    "print('US Test Rate:', US_tr)"
   ]
  },
  {
   "cell_type": "code",
   "execution_count": null,
   "metadata": {},
   "outputs": [],
   "source": [
    "us_totals['Likely Cases C86'].max()"
   ]
  },
  {
   "cell_type": "code",
   "execution_count": null,
   "metadata": {},
   "outputs": [],
   "source": [
    "#display(covid_19_ts[covid_19_ts['Country/Region'] == 'US'])"
   ]
  },
  {
   "cell_type": "code",
   "execution_count": null,
   "metadata": {},
   "outputs": [],
   "source": [
    "us_totals['Total Deaths'].max() / us_totals['Total Confirmed'].max() "
   ]
  },
  {
   "cell_type": "code",
   "execution_count": null,
   "metadata": {},
   "outputs": [],
   "source": [
    "#display(us_cases)"
   ]
  },
  {
   "cell_type": "code",
   "execution_count": null,
   "metadata": {},
   "outputs": [],
   "source": [
    "#display(covid_19_by_date)"
   ]
  },
  {
   "cell_type": "code",
   "execution_count": null,
   "metadata": {},
   "outputs": [],
   "source": [
    "us_chart = px.bar(us_cases[us_cases['Date'] >= '2020-02-20'], \n",
    "    x=\"Date\", y=\"Confirmed\", color=\"Province/State\", title=\"Confirmed US Cases\")\n",
    "us_chart.show()"
   ]
  },
  {
   "cell_type": "code",
   "execution_count": null,
   "metadata": {},
   "outputs": [],
   "source": [
    "us_chart = px.bar(us_cases[us_cases['Date'] >= '2020-02-20'], \n",
    "    x=\"Date\", y=\"Likely Cases 1.8pct\", color=\"Province/State\", title=\"Likely US Cases\")\n",
    "us_chart.show()"
   ]
  },
  {
   "cell_type": "code",
   "execution_count": null,
   "metadata": {},
   "outputs": [],
   "source": [
    "us_chart = px.bar(us_totals[us_totals['Date'] >= '2020-02-20'], \n",
    "    x=\"Date\", y=\"Active Cases\", color=\"Death Rate\", \n",
    "    title=\"Active US Active Cases (confirmed - recovered - dead) - Current as of: \"+str(NOW), \n",
    "    )\n",
    "us_chart.show()"
   ]
  },
  {
   "cell_type": "code",
   "execution_count": null,
   "metadata": {},
   "outputs": [],
   "source": [
    "us_chart = px.bar(us_totals[us_totals['Date'] >= '2020-02-20'], \n",
    "    x=\"Date\", y=\"Total Deaths\", color=\"Active Cases\", \n",
    "    title=\"Total US Deaths (Confirmed->Dead) - Current as of: \"+str(NOW), \n",
    "    )\n",
    "us_chart.show()"
   ]
  },
  {
   "cell_type": "code",
   "execution_count": null,
   "metadata": {},
   "outputs": [],
   "source": [
    "us_chart = px.bar(us_totals[us_totals['Date'] >= '2020-02-20'], \n",
    "    x=\"Date\", y=\"Likely Cases 1.8pct\", color=\"Death Rate\", \n",
    "    title=\"Likely US Active Cases (confirmed - recovered - dead) - Current as of: \"+str(NOW), \n",
    "    )\n",
    "us_chart.show()"
   ]
  },
  {
   "cell_type": "code",
   "execution_count": null,
   "metadata": {},
   "outputs": [],
   "source": [
    "us_totals['New Active Cases'] = us_totals['Active Cases'] - us_totals['Active Cases'].shift()\n",
    "us_totals['New Cases'] = us_totals['Confirmed'] - us_totals['Confirmed'].shift()\n",
    "us_totals['New Case PCT Change'] = us_totals['Confirmed'].pct_change()"
   ]
  },
  {
   "cell_type": "code",
   "execution_count": null,
   "metadata": {},
   "outputs": [],
   "source": [
    "us_chart = px.bar(us_totals[us_totals['Date'] >= '2020-02-20'], \n",
    "    x=\"Date\", y=\"New Case PCT Change\", color=\"Death Rate\", \n",
    "    title=\"New US Active Cases (confirmed - recovered - dead) - Current as of: \"+str(NOW), \n",
    "    )\n",
    "us_chart.show()"
   ]
  },
  {
   "cell_type": "code",
   "execution_count": null,
   "metadata": {},
   "outputs": [],
   "source": [
    "us_chart = px.bar(us_totals[us_totals['Date'] >= '2020-03-03'], \n",
    "    x=\"Date\", y=\"Death Change Rate\", color=\"New Case PCT Change\", \n",
    "    title=\"New US Deaths (confirmed->dead) - Current as of: \"+str(NOW), \n",
    "    )\n",
    "us_chart.show()"
   ]
  },
  {
   "cell_type": "code",
   "execution_count": null,
   "metadata": {},
   "outputs": [],
   "source": [
    "def exponenial_func(x, a, b, c):\n",
    "    return a*np.exp(-b*x)+c\n",
    "\n",
    "us_totals=us_totals.sort_values('Date')\n",
    "us_totals=us_totals.reset_index()\n",
    "us_totals['Day'] = us_totals.index\n",
    "x=us_totals.index\n",
    "y=us_totals['Active Cases']\n",
    "\n",
    "popt, pcov = curve_fit(exponenial_func, x, y, p0=(1, 1e-6, 1.25))"
   ]
  },
  {
   "cell_type": "code",
   "execution_count": null,
   "metadata": {},
   "outputs": [],
   "source": [
    "fDay=3\n",
    "xx = np.linspace(0, len(y)+fDay)\n",
    "yy = exponenial_func(xx, *popt)\n",
    "z=2.79248349e-04 * np.exp(3.11496172e-01 * x) + 1.03712386e+01"
   ]
  },
  {
   "cell_type": "code",
   "execution_count": null,
   "metadata": {},
   "outputs": [],
   "source": [
    "popt # 2.79248349e-04 * np.exp(-3.11496172e-01 * x) + 1.03712386e+01"
   ]
  },
  {
   "cell_type": "code",
   "execution_count": null,
   "metadata": {
    "jupyter": {
     "source_hidden": true
    }
   },
   "outputs": [],
   "source": [
    "dateAx = []\n",
    "valAx = []\n",
    "foreDates = []\n",
    "startDate = us_totals['Date'].min()\n",
    "for i in xx:\n",
    "    d = np.round(i,0)\n",
    "    foreDates.append((startDate + pd.DateOffset(days=d)).date())\n",
    "    if d%7 == 0:\n",
    "        valAx.append(d)\n",
    "        dateAx.append((startDate + pd.DateOffset(days=d)).date())"
   ]
  },
  {
   "cell_type": "code",
   "execution_count": null,
   "metadata": {
    "jupyter": {
     "source_hidden": true
    }
   },
   "outputs": [],
   "source": [
    "from sklearn.metrics import r2_score\n",
    "\n",
    "R2Val = str(np.round(r2_score(y, z), 3))"
   ]
  },
  {
   "cell_type": "code",
   "execution_count": null,
   "metadata": {
    "jupyter": {
     "source_hidden": true
    }
   },
   "outputs": [],
   "source": [
    "trace1 = go.Scatter(\n",
    "                  x=x,\n",
    "                  y=y,\n",
    "                  mode='markers',\n",
    "                  name='Active Cases'\n",
    "                  )\n",
    "\n",
    "trace2 = go.Scatter(\n",
    "                  x=xx,\n",
    "                  y=yy,\n",
    "                  mode='lines',\n",
    "                  name='Forecast'\n",
    "                  )\n",
    "\n",
    "trace3 = go.Scatter(\n",
    "                  x=x,\n",
    "                  y=z,\n",
    "                  mode='lines',\n",
    "                  name='Test Fit'\n",
    "                  )\n",
    "\n",
    "layout = go.Layout(\n",
    "    title='Active Cases by Date, Actual + ' + str(fDay) + ' day Forecast as of: '+str(NOW)+'<br />R2: '+R2Val,\n",
    "    titlefont=dict(\n",
    "        family='Arial, sans-serif',\n",
    "        size=24,\n",
    "        color='black'\n",
    "    ),\n",
    "    xaxis=dict(\n",
    "        tickvals=valAx,\n",
    "        ticktext=dateAx,\n",
    "        showticklabels=True,\n",
    "        ticks='outside',\n",
    "        tickangle=45,\n",
    "        tickfont=dict(\n",
    "            family='Arial, sans-serif',\n",
    "            size=14,\n",
    "            color='black'\n",
    "        )\n",
    "    ),\n",
    "    yaxis=dict(\n",
    "        title='Active Cases',\n",
    "        titlefont=dict(\n",
    "            family='Arial, sans-serif',\n",
    "            size=18,\n",
    "            color='grey'\n",
    "        ),\n",
    "        ticks='outside',\n",
    "        showticklabels=True,\n",
    "        tickfont=dict(\n",
    "            family='Arial, sans-serif',\n",
    "            size=14,\n",
    "            color='black'\n",
    "        ) #,type='log'\n",
    "    )\n",
    ")\n",
    "    \n",
    "fig = go.Figure(layout=layout)\n",
    "fig.add_trace(trace1)\n",
    "fig.add_trace(trace2)\n",
    "fig.show()"
   ]
  },
  {
   "cell_type": "code",
   "execution_count": null,
   "metadata": {},
   "outputs": [],
   "source": []
  },
  {
   "cell_type": "code",
   "execution_count": null,
   "metadata": {
    "jupyter": {
     "source_hidden": true
    }
   },
   "outputs": [],
   "source": [
    "def exponenial_func(x, a, b, c):\n",
    "    return a*np.exp(-b*x)+c\n",
    "\n",
    "us_totals=us_totals.sort_values('Date')\n",
    "us_totals=us_totals.reset_index(drop=True)\n",
    "us_totals['Day'] = us_totals.index\n",
    "x=us_totals.index\n",
    "y=us_totals['Likely Cases 1.8pct']\n",
    "\n",
    "popt, pcov = curve_fit(exponenial_func, x, y, p0=(1, 1e-6, 1.25))\n",
    "\n",
    "xx = np.linspace(0, len(y)+fDay)\n",
    "yy = exponenial_func(xx, *popt)\n",
    "z=2.79248349e-04 * np.exp(3.11496172e-01 * x) + 1.03712386e+01\n",
    "\n",
    "dateAx = []\n",
    "valAx = []\n",
    "foreDates = []\n",
    "startDate = us_totals['Date'].min()\n",
    "for i in xx:\n",
    "    d = np.round(i,0)\n",
    "    foreDates.append((startDate + pd.DateOffset(days=d)).date())\n",
    "    if d%7 == 0:\n",
    "        valAx.append(d)\n",
    "        dateAx.append((startDate + pd.DateOffset(days=d)).date())\n",
    "\n",
    "R2Val = str(np.round(r2_score(y, z), 3))\n",
    "\n",
    "trace1 = go.Scatter(\n",
    "                  x=x,\n",
    "                  y=y,\n",
    "                  mode='markers',\n",
    "                  name='Active Cases'\n",
    "                  )\n",
    "\n",
    "trace2 = go.Scatter(\n",
    "                  x=xx,\n",
    "                  y=yy,\n",
    "                  mode='lines',\n",
    "                  name='Forecast'\n",
    "                  )\n",
    "\n",
    "trace3 = go.Scatter(\n",
    "                  x=x,\n",
    "                  y=z,\n",
    "                  mode='lines',\n",
    "                  name='Test Fit'\n",
    "                  )\n",
    "\n",
    "layout = go.Layout(\n",
    "    title='Likely Cases 1.8pct by Date, Actual + '+str(fDay)+' day Forecast as of: '+str(NOW)+'<br />R2: '+R2Val,\n",
    "    titlefont=dict(\n",
    "        family='Arial, sans-serif',\n",
    "        size=24,\n",
    "        color='black'\n",
    "    ),\n",
    "    xaxis=dict(\n",
    "        tickvals=valAx,\n",
    "        ticktext=dateAx,\n",
    "        showticklabels=True,\n",
    "        ticks='outside',\n",
    "        tickangle=45,\n",
    "        tickfont=dict(\n",
    "            family='Arial, sans-serif',\n",
    "            size=14,\n",
    "            color='black'\n",
    "        )\n",
    "    ),\n",
    "    yaxis=dict(\n",
    "        title='Active Cases',\n",
    "        titlefont=dict(\n",
    "            family='Arial, sans-serif',\n",
    "            size=18,\n",
    "            color='grey'\n",
    "        ),\n",
    "        ticks='outside',\n",
    "        showticklabels=True,\n",
    "        tickfont=dict(\n",
    "            family='Arial, sans-serif',\n",
    "            size=14,\n",
    "            color='black'\n",
    "        ) #,type='log'\n",
    "    )\n",
    ")\n",
    "    \n",
    "fig = go.Figure(layout=layout)\n",
    "fig.add_trace(trace1)\n",
    "fig.add_trace(trace2)\n",
    "fig.show()"
   ]
  },
  {
   "cell_type": "code",
   "execution_count": null,
   "metadata": {},
   "outputs": [],
   "source": [
    "# now let's run the forecast with fbprophet\n",
    "pDay=3\n",
    "fb_df = us_totals[['Date', 'Active Cases']].copy()\n",
    "fb_df = fb_df.sort_values('Date').reset_index(drop=True)\n",
    "fb_df.columns = ['ds','y']\n",
    "#print(fb_df)\n",
    "\n",
    "m = Prophet(yearly_seasonality=True, weekly_seasonality=True, daily_seasonality=False, growth='linear')\n",
    "m.fit(fb_df)\n",
    "\n",
    "future = m.make_future_dataframe(periods=pDay)\n",
    "\n",
    "forecast = m.predict(future)\n",
    "\n",
    "py.init_notebook_mode()\n",
    "\n",
    "fig = plot_plotly(m, forecast, xlabel='Date', ylabel='Active Cases', uncertainty=True, figsize=(1400,900))  # This returns a plotly Figure\n",
    "fig.update_layout(title='Active '+country+' COVID-19 Cases and Forecast ('+str(pDay)+' day)')\n",
    "py.iplot(fig)"
   ]
  },
  {
   "cell_type": "code",
   "execution_count": null,
   "metadata": {},
   "outputs": [],
   "source": []
  },
  {
   "cell_type": "code",
   "execution_count": null,
   "metadata": {},
   "outputs": [],
   "source": [
    "# see here for some good parameter tuning\n",
    "N = US_pop * 0.2\n",
    "T=60\n",
    "I0, R0 = us_totals['Likely Cases 1.8pct'].max(), us_totals['Recovered'].max()*120\n",
    "S0 = N - I0 - R0\n",
    "beta, gamma = 0.3, 1/36\n",
    "t = np.linspace(0, T, T)\n",
    "y0 = S0, I0, R0\n",
    "\n",
    "#SIR Deriv\n",
    "def deriv(y, t, N, beta, gamma):\n",
    "    S, I, R = y\n",
    "    dSdt = -beta * S * I / N\n",
    "    dIdt = beta * S * I / N - gamma * I\n",
    "    dRdt = gamma * I\n",
    "    return dSdt, dIdt, dRdt\n",
    "\n",
    "ret = odeint(deriv, y0, t, args=(N, beta, gamma))\n",
    "S, I, R = ret.T\n",
    "\n",
    "D = (I/1000000)*0.018\n",
    "R = (R/1000000) - D\n",
    "\n",
    "fig = plt.figure(figsize=(24,7), facecolor='w')\n",
    "ax = fig.add_subplot(111, axisbelow=True)\n",
    "ax.plot(t, S/1000000, 'b', alpha=0.5, lw=2, label='Susceptible')\n",
    "ax.plot(t, I/1000000, 'r', alpha=0.5, lw=2, label='Infected')\n",
    "ax.plot(t, D, 'y', alpha=0.5, lw=2, label='Dead')\n",
    "ax.plot(t, R, 'g', alpha=0.5, lw=2, label='Recovered with immunity')\n",
    "ax.set_xlabel('Time /days')\n",
    "ax.set_title('US - SIR+d model based on known disease characteristics and response at: '+str(NOW) + \n",
    "            '\\nTotal Infected: '+'{:,.2f}'.format(int(np.max(S)))+\n",
    "            '\\nTotal Recovered: '+'{:,.2f}'.format(int(np.max(R)*1000000))+\n",
    "            '\\nTotal Dead: '+'{:,.2f}'.format(int(np.max(D)*1000000)),\n",
    "            loc='left'\n",
    "            )\n",
    "#ax.set_ylabel('Number (1000s)')\n",
    "#ax.set_ylim(0,1.2)\n",
    "ax.yaxis.set_tick_params(length=0)\n",
    "ax.xaxis.set_tick_params(length=0)\n",
    "ax.grid(b=True, which='major', c='w', lw=2, ls='-')\n",
    "legend = ax.legend()\n",
    "legend.get_frame().set_alpha(0.5)\n",
    "for spine in ('top', 'right', 'bottom', 'left'):\n",
    "    ax.spines[spine].set_visible(False)\n",
    "plt.show()"
   ]
  },
  {
   "cell_type": "code",
   "execution_count": null,
   "metadata": {
    "jupyter": {
     "source_hidden": true
    }
   },
   "outputs": [],
   "source": [
    "N = US_pop * 0.2\n",
    "T=180\n",
    "I0, R0 = us_totals['Likely Cases 1.8pct'].max(), us_totals['Recovered'].max()*120\n",
    "S0 = N - I0 - R0\n",
    "beta, gamma = 0.1, 1/28\n",
    "t = np.linspace(0, T, T)\n",
    "y0 = S0, I0, R0\n",
    "\n",
    "#SIR Deriv\n",
    "def deriv(y, t, N, beta, gamma):\n",
    "    S, I, R = y\n",
    "    dSdt = -beta * S * I / N\n",
    "    dIdt = beta * S * I / N - gamma * I\n",
    "    dRdt = gamma * I\n",
    "    return dSdt, dIdt, dRdt\n",
    "\n",
    "ret = odeint(deriv, y0, t, args=(N, beta, gamma))\n",
    "S, I, R = ret.T\n",
    "\n",
    "D = (I/1000000)*0.008\n",
    "R = (R/1000000) - D\n",
    "\n",
    "fig = plt.figure(figsize=(24,7), facecolor='w')\n",
    "ax = fig.add_subplot(111, axisbelow=True)\n",
    "ax.plot(t, S/1000000, 'b', alpha=0.5, lw=2, label='Susceptible')\n",
    "ax.plot(t, I/1000000, 'r', alpha=0.5, lw=2, label='Infected')\n",
    "ax.plot(t, D, 'y', alpha=0.5, lw=2, label='Dead')\n",
    "ax.plot(t, R, 'g', alpha=0.5, lw=2, label='Recovered with immunity')\n",
    "ax.set_xlabel('Time /days')\n",
    "ax.set_title('US - SIR+d model based on known disease characteristics and AGGRESIVE response at: '+str(NOW) + \n",
    "            '\\nTotal Infected: '+'{:,.2f}'.format(int(np.max(S)))+\n",
    "            '\\nTotal Recovered: '+'{:,.2f}'.format(int(np.max(R)*1000000))+\n",
    "            '\\nTotal Dead: '+'{:,.2f}'.format(int(np.max(D)*1000000)),\n",
    "            loc='left'\n",
    "            )\n",
    "#ax.set_ylabel('Number (1000s)')\n",
    "#ax.set_ylim(0,1.2)\n",
    "ax.yaxis.set_tick_params(length=0)\n",
    "ax.xaxis.set_tick_params(length=0)\n",
    "ax.grid(b=True, which='major', c='w', lw=2, ls='-')\n",
    "legend = ax.legend()\n",
    "legend.get_frame().set_alpha(0.5)\n",
    "for spine in ('top', 'right', 'bottom', 'left'):\n",
    "    ax.spines[spine].set_visible(False)\n",
    "plt.show()"
   ]
  },
  {
   "cell_type": "code",
   "execution_count": null,
   "metadata": {},
   "outputs": [],
   "source": []
  }
 ],
 "metadata": {
  "kernelspec": {
   "display_name": "Python 3.7.6 64-bit ('miniconda3': virtualenv)",
   "language": "python",
   "name": "python37664bitminiconda3virtualenve3b6ad2979204d799798e97f12a748c5"
  },
  "language_info": {
   "codemirror_mode": {
    "name": "ipython",
    "version": 3
   },
   "file_extension": ".py",
   "mimetype": "text/x-python",
   "name": "python",
   "nbconvert_exporter": "python",
   "pygments_lexer": "ipython3",
   "version": "3.7.6"
  }
 },
 "nbformat": 4,
 "nbformat_minor": 4
}
