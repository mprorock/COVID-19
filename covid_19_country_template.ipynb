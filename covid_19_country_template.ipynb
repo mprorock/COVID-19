{
 "cells": [
  {
   "cell_type": "code",
   "execution_count": 1,
   "metadata": {
    "jupyter": {
     "source_hidden": true
    }
   },
   "outputs": [],
   "source": [
    "# run initial imports\n",
    "from __future__ import print_function\n",
    "\n",
    "import numpy as np\n",
    "import pandas as pd\n",
    "\n",
    "from fbprophet import Prophet\n",
    "from fbprophet.plot import plot_plotly\n",
    "\n",
    "import matplotlib.pyplot as plt\n",
    "import plotly.offline as py\n",
    "import plotly.express as px\n",
    "import plotly.graph_objs as go\n",
    "\n",
    "from scipy.integrate import odeint\n",
    "from scipy.optimize import curve_fit\n",
    "\n",
    "from sklearn.metrics import r2_score\n",
    "from sklearn.linear_model import Ridge\n",
    "from sklearn.preprocessing import PolynomialFeatures\n",
    "from sklearn.pipeline import make_pipeline\n",
    "\n",
    "from ipywidgets import interact, interactive, fixed, interact_manual\n",
    "from ipywidgets import widgets\n",
    "\n",
    "from datetime import datetime"
   ]
  },
  {
   "cell_type": "code",
   "execution_count": 2,
   "metadata": {},
   "outputs": [],
   "source": [
    "NOW = datetime.now()\n",
    "pDay=3 # number of corecast days - should not exceed 5 unless you are very careful in tuning, and understand how to interpert the results\n",
    "input_dir = './data/'\n",
    "covid_19_national_observations = pd.read_csv(input_dir + 'global/covid_19_national_observations.csv')"
   ]
  },
  {
   "cell_type": "code",
   "execution_count": 3,
   "metadata": {
    "jupyter": {
     "source_hidden": true
    }
   },
   "outputs": [],
   "source": [
    "countries = covid_19_national_observations['Country/Region'].unique()\n",
    "#print('Available Countries:', countries)"
   ]
  },
  {
   "cell_type": "code",
   "execution_count": 12,
   "metadata": {},
   "outputs": [],
   "source": [
    "\n",
    "def analyze_country(country):\n",
    "    c = country.lower().replace(' ', '_')\n",
    "    #setup initial data frames\n",
    "    input_dir = './data/countries/' + c + '/'\n",
    "    cases = pd.read_csv(input_dir + 'covid_19_'+ c +'_cases.csv')\n",
    "    totals = pd.read_csv(input_dir + './covid_19_' + c + '_totals.csv')\n",
    "    \n",
    "    #correct date parsing on some of the JH data\n",
    "    cases['Date'] = pd.to_datetime(cases['Date'])\n",
    "    totals['Date'] = pd.to_datetime(totals['Date'])\n",
    "    \n",
    "    cases = cases.sort_values('Date')\n",
    "    totals = totals.sort_values('Date')\n",
    "    \n",
    "    cases = cases[cases['Confirmed'] > 0]\n",
    "    \n",
    "    likelyTotal = int(totals['Likely Cases C86'].max())\n",
    "    confirmedActive = int(totals['Active Cases'].iloc[-1])\n",
    "    recovered = int(totals['Recovered'].iloc[-1])\n",
    "    dead = int(totals['Death'].iloc[-1])\n",
    "    #print(likelyTotal, confirmedActive)\n",
    "    \n",
    "    # totals overall\n",
    "    totals_state = totals[['Date', 'Active Cases', 'Recovered', 'Death']].melt(id_vars=['Date'], \n",
    "            value_vars=['Active Cases', 'Recovered', 'Death'], value_name=\"Population\", var_name='Status')\n",
    "    totals_chart = px.bar(totals_state, \n",
    "        x=\"Date\", y=\"Population\", color=\"Status\", title=country+\" Active, Recovered and Deaths by Date\")\n",
    "    totals_chart.show()\n",
    "\n",
    "    # active cases only\n",
    "    active_chart = px.bar(totals[totals['Active Cases'] > 0], \n",
    "        x=\"Date\", y=\"Active Cases\", color=\"Death Rate\", \n",
    "        title=country+\" Active Cases (confirmed - recovered - dead) - Current as of: \"+str(NOW), \n",
    "    )\n",
    "    active_chart.show()\n",
    "    \n",
    "    # confirmed chart\n",
    "    confirmed_chart = px.bar(cases[cases['Confirmed'] > 0], \n",
    "        x=\"Date\", y=\"Confirmed\", color=\"Province/State\", title=country+\" Confirmed Cases\")\n",
    "    confirmed_chart.show()\n",
    "    \n",
    "    # now let's run the forecast with fbprophet\n",
    "    fb_df = totals[['Date', 'Active Cases']].copy()\n",
    "    fb_df = fb_df.sort_values('Date').reset_index(drop=True)\n",
    "    fb_df.columns = ['ds','y']\n",
    "    #print(fb_df)\n",
    "\n",
    "    m = Prophet(yearly_seasonality=True, weekly_seasonality=True, daily_seasonality=False, growth='linear')\n",
    "    m.fit(fb_df)\n",
    "    future = m.make_future_dataframe(periods=pDay)\n",
    "    forecast = m.predict(future)\n",
    "    py.init_notebook_mode()\n",
    "\n",
    "    fig = plot_plotly(m, forecast, xlabel='Date', ylabel='Active Cases', uncertainty=True, figsize=(1100,600))  # This returns a plotly Figure\n",
    "    fig.update_layout(title='Active '+country+' COVID-19 Cases and Forecast ('+str(pDay)+' day)')\n",
    "    py.iplot(fig)"
   ]
  },
  {
   "cell_type": "code",
   "execution_count": 13,
   "metadata": {},
   "outputs": [
    {
     "data": {
      "application/vnd.jupyter.widget-view+json": {
       "model_id": "376bf44f195d423dbf3ed1d8b1d1c643",
       "version_major": 2,
       "version_minor": 0
      },
      "text/plain": [
       "interactive(children=(Dropdown(description='country', options=('China', 'Japan', 'Korea, South', 'Taiwan*', 'T…"
      ]
     },
     "metadata": {},
     "output_type": "display_data"
    }
   ],
   "source": [
    "def f(country):\n",
    "    analyze_country(country)\n",
    "    \n",
    "interactive_plot = interactive(f, country=countries)\n",
    "output = interactive_plot.children[-1]\n",
    "output.layout.height = '800px'\n",
    "output.layout.width = '1200px'\n",
    "interactive_plot"
   ]
  },
  {
   "cell_type": "code",
   "execution_count": null,
   "metadata": {},
   "outputs": [],
   "source": []
  }
 ],
 "metadata": {
  "kernelspec": {
   "display_name": "Python 3.7.6 64-bit ('miniconda3': virtualenv)",
   "language": "python",
   "name": "python37664bitminiconda3virtualenve3b6ad2979204d799798e97f12a748c5"
  },
  "language_info": {
   "codemirror_mode": {
    "name": "ipython",
    "version": 3
   },
   "file_extension": ".py",
   "mimetype": "text/x-python",
   "name": "python",
   "nbconvert_exporter": "python",
   "pygments_lexer": "ipython3",
   "version": "3.7.6"
  }
 },
 "nbformat": 4,
 "nbformat_minor": 4
}
